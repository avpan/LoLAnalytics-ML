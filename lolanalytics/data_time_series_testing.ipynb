{
 "cells": [
  {
   "cell_type": "code",
   "execution_count": 1,
   "metadata": {
    "collapsed": true
   },
   "outputs": [],
   "source": [
    "%matplotlib inline\n",
    "import numpy as np\n",
    "import os.path\n",
    "from datetime import date, timedelta\n",
    "import json\n",
    "import pandas as pd\n",
    "from bokeh.layouts import gridplot\n",
    "from bokeh.plotting import figure, show, output_file\n",
    "from bokeh.io import output_notebook\n",
    "import matplotlib\n",
    "from ggplot import *"
   ]
  },
  {
   "cell_type": "code",
   "execution_count": 28,
   "metadata": {
    "collapsed": false
   },
   "outputs": [
    {
     "data": {
      "text/html": [
       "\n",
       "    <div class=\"bk-root\">\n",
       "        <a href=\"http://bokeh.pydata.org\" target=\"_blank\" class=\"bk-logo bk-logo-small bk-logo-notebook\"></a>\n",
       "        <span id=\"42a88f29-d75a-4464-b818-e0c3d2b0adcf\">Loading BokehJS ...</span>\n",
       "    </div>"
      ]
     },
     "metadata": {},
     "output_type": "display_data"
    },
    {
     "data": {
      "application/javascript": [
       "\n",
       "(function(global) {\n",
       "  function now() {\n",
       "    return new Date();\n",
       "  }\n",
       "\n",
       "  if (typeof (window._bokeh_onload_callbacks) === \"undefined\") {\n",
       "    window._bokeh_onload_callbacks = [];\n",
       "  }\n",
       "\n",
       "  function run_callbacks() {\n",
       "    window._bokeh_onload_callbacks.forEach(function(callback) { callback() });\n",
       "    delete window._bokeh_onload_callbacks\n",
       "    console.info(\"Bokeh: all callbacks have finished\");\n",
       "  }\n",
       "\n",
       "  function load_libs(js_urls, callback) {\n",
       "    window._bokeh_onload_callbacks.push(callback);\n",
       "    if (window._bokeh_is_loading > 0) {\n",
       "      console.log(\"Bokeh: BokehJS is being loaded, scheduling callback at\", now());\n",
       "      return null;\n",
       "    }\n",
       "    if (js_urls == null || js_urls.length === 0) {\n",
       "      run_callbacks();\n",
       "      return null;\n",
       "    }\n",
       "    console.log(\"Bokeh: BokehJS not loaded, scheduling load and callback at\", now());\n",
       "    window._bokeh_is_loading = js_urls.length;\n",
       "    for (var i = 0; i < js_urls.length; i++) {\n",
       "      var url = js_urls[i];\n",
       "      var s = document.createElement('script');\n",
       "      s.src = url;\n",
       "      s.async = false;\n",
       "      s.onreadystatechange = s.onload = function() {\n",
       "        window._bokeh_is_loading--;\n",
       "        if (window._bokeh_is_loading === 0) {\n",
       "          console.log(\"Bokeh: all BokehJS libraries loaded\");\n",
       "          run_callbacks()\n",
       "        }\n",
       "      };\n",
       "      s.onerror = function() {\n",
       "        console.warn(\"failed to load library \" + url);\n",
       "      };\n",
       "      console.log(\"Bokeh: injecting script tag for BokehJS library: \", url);\n",
       "      document.getElementsByTagName(\"head\")[0].appendChild(s);\n",
       "    }\n",
       "  };\n",
       "\n",
       "  var js_urls = ['https://cdn.pydata.org/bokeh/release/bokeh-0.12.0.min.js', 'https://cdn.pydata.org/bokeh/release/bokeh-widgets-0.12.0.min.js', 'https://cdn.pydata.org/bokeh/release/bokeh-compiler-0.12.0.min.js'];\n",
       "\n",
       "  var inline_js = [\n",
       "    function(Bokeh) {\n",
       "      Bokeh.set_log_level(\"info\");\n",
       "    },\n",
       "    \n",
       "    function(Bokeh) {\n",
       "      Bokeh.$(\"#42a88f29-d75a-4464-b818-e0c3d2b0adcf\").text(\"BokehJS successfully loaded\");\n",
       "    },\n",
       "    function(Bokeh) {\n",
       "      console.log(\"Bokeh: injecting CSS: https://cdn.pydata.org/bokeh/release/bokeh-0.12.0.min.css\");\n",
       "      Bokeh.embed.inject_css(\"https://cdn.pydata.org/bokeh/release/bokeh-0.12.0.min.css\");\n",
       "      console.log(\"Bokeh: injecting CSS: https://cdn.pydata.org/bokeh/release/bokeh-widgets-0.12.0.min.css\");\n",
       "      Bokeh.embed.inject_css(\"https://cdn.pydata.org/bokeh/release/bokeh-widgets-0.12.0.min.css\");\n",
       "    }\n",
       "  ];\n",
       "\n",
       "  function run_inline_js() {\n",
       "    for (var i = 0; i < inline_js.length; i++) {\n",
       "      inline_js[i](window.Bokeh);\n",
       "    }\n",
       "  }\n",
       "\n",
       "  if (window._bokeh_is_loading === 0) {\n",
       "    console.log(\"Bokeh: BokehJS loaded, going straight to plotting\");\n",
       "    run_inline_js();\n",
       "  } else {\n",
       "    load_libs(js_urls, function() {\n",
       "      console.log(\"Bokeh: BokehJS plotting callback run at\", now());\n",
       "      run_inline_js();\n",
       "    });\n",
       "  }\n",
       "}(this));"
      ]
     },
     "metadata": {},
     "output_type": "display_data"
    }
   ],
   "source": [
    "output_notebook()"
   ]
  },
  {
   "cell_type": "code",
   "execution_count": 34,
   "metadata": {
    "collapsed": false
   },
   "outputs": [
    {
     "data": {
      "text/html": [
       "<div>\n",
       "<table border=\"1\" class=\"dataframe\">\n",
       "  <thead>\n",
       "    <tr style=\"text-align: right;\">\n",
       "      <th></th>\n",
       "      <th>matchId</th>\n",
       "      <th>time</th>\n",
       "      <th>vicGoldTotal</th>\n",
       "      <th>defGoldTotal</th>\n",
       "      <th>goldDiff</th>\n",
       "    </tr>\n",
       "  </thead>\n",
       "  <tbody>\n",
       "    <tr>\n",
       "      <th>0</th>\n",
       "      <td>1</td>\n",
       "      <td>0</td>\n",
       "      <td>2500</td>\n",
       "      <td>2500</td>\n",
       "      <td>0</td>\n",
       "    </tr>\n",
       "    <tr>\n",
       "      <th>1</th>\n",
       "      <td>1</td>\n",
       "      <td>1</td>\n",
       "      <td>2500</td>\n",
       "      <td>2500</td>\n",
       "      <td>0</td>\n",
       "    </tr>\n",
       "    <tr>\n",
       "      <th>2</th>\n",
       "      <td>1</td>\n",
       "      <td>2</td>\n",
       "      <td>2652</td>\n",
       "      <td>2693</td>\n",
       "      <td>-41</td>\n",
       "    </tr>\n",
       "    <tr>\n",
       "      <th>3</th>\n",
       "      <td>1</td>\n",
       "      <td>3</td>\n",
       "      <td>3856</td>\n",
       "      <td>4907</td>\n",
       "      <td>-1051</td>\n",
       "    </tr>\n",
       "    <tr>\n",
       "      <th>4</th>\n",
       "      <td>1</td>\n",
       "      <td>4</td>\n",
       "      <td>5434</td>\n",
       "      <td>6173</td>\n",
       "      <td>-739</td>\n",
       "    </tr>\n",
       "  </tbody>\n",
       "</table>\n",
       "</div>"
      ],
      "text/plain": [
       "   matchId  time  vicGoldTotal  defGoldTotal  goldDiff\n",
       "0        1     0          2500          2500         0\n",
       "1        1     1          2500          2500         0\n",
       "2        1     2          2652          2693       -41\n",
       "3        1     3          3856          4907     -1051\n",
       "4        1     4          5434          6173      -739"
      ]
     },
     "execution_count": 34,
     "metadata": {},
     "output_type": "execute_result"
    }
   ],
   "source": [
    "df = pd.read_csv(\"./data/test_data/prelim_timedata.csv\",index_col=0)\n",
    "df.head()"
   ]
  },
  {
   "cell_type": "code",
   "execution_count": 21,
   "metadata": {
    "collapsed": false
   },
   "outputs": [],
   "source": [
    "maxtime = df['time'].max()\n",
    "results = []\n",
    "for timestamp in range(maxtime+1):\n",
    "    dft = df[df['time']==timestamp]\n",
    "    vicTotal_mean = dft['vicGoldTotal'].mean()\n",
    "    vicTotal_std = dft['vicGoldTotal'].std()\n",
    "    defTotal_mean = dft['defGoldTotal'].mean()\n",
    "    defTotal_std = dft['vicGoldTotal'].std()\n",
    "    goldDiff_mean = dft['goldDiff'].mean()\n",
    "    goldDiff_std = dft['goldDiff'].std()\n",
    "    results.append((timestamp,vicTotal_mean,vicTotal_std,defTotal_mean,defTotal_std,goldDiff_mean,goldDiff_std))"
   ]
  },
  {
   "cell_type": "code",
   "execution_count": 25,
   "metadata": {
    "collapsed": false
   },
   "outputs": [],
   "source": [
    "dft = pd.DataFrame(results,columns=['time','vicTotalMean','vicTotalStd','defTotalMean','defTotalStd','goldDiffMean','goldDiffStd'])"
   ]
  },
  {
   "cell_type": "code",
   "execution_count": 26,
   "metadata": {
    "collapsed": false
   },
   "outputs": [
    {
     "data": {
      "text/html": [
       "<div>\n",
       "<table border=\"1\" class=\"dataframe\">\n",
       "  <thead>\n",
       "    <tr style=\"text-align: right;\">\n",
       "      <th></th>\n",
       "      <th>time</th>\n",
       "      <th>vicTotalMean</th>\n",
       "      <th>vicTotalStd</th>\n",
       "      <th>defTotalMean</th>\n",
       "      <th>defTotalStd</th>\n",
       "      <th>goldDiffMean</th>\n",
       "      <th>goldDiffStd</th>\n",
       "    </tr>\n",
       "  </thead>\n",
       "  <tbody>\n",
       "    <tr>\n",
       "      <th>0</th>\n",
       "      <td>0</td>\n",
       "      <td>2500.000000</td>\n",
       "      <td>0.000000</td>\n",
       "      <td>2500.000000</td>\n",
       "      <td>0.000000</td>\n",
       "      <td>0.000000</td>\n",
       "      <td>0.000000</td>\n",
       "    </tr>\n",
       "    <tr>\n",
       "      <th>1</th>\n",
       "      <td>1</td>\n",
       "      <td>2505.675164</td>\n",
       "      <td>52.414341</td>\n",
       "      <td>2503.775806</td>\n",
       "      <td>52.414341</td>\n",
       "      <td>1.899358</td>\n",
       "      <td>62.793878</td>\n",
       "    </tr>\n",
       "    <tr>\n",
       "      <th>2</th>\n",
       "      <td>2</td>\n",
       "      <td>2695.155135</td>\n",
       "      <td>114.668696</td>\n",
       "      <td>2687.227571</td>\n",
       "      <td>114.668696</td>\n",
       "      <td>7.927564</td>\n",
       "      <td>146.627377</td>\n",
       "    </tr>\n",
       "    <tr>\n",
       "      <th>3</th>\n",
       "      <td>3</td>\n",
       "      <td>4099.264716</td>\n",
       "      <td>277.434295</td>\n",
       "      <td>4030.259617</td>\n",
       "      <td>277.434295</td>\n",
       "      <td>69.005098</td>\n",
       "      <td>386.587603</td>\n",
       "    </tr>\n",
       "    <tr>\n",
       "      <th>4</th>\n",
       "      <td>4</td>\n",
       "      <td>5608.309409</td>\n",
       "      <td>443.964461</td>\n",
       "      <td>5439.295107</td>\n",
       "      <td>443.964461</td>\n",
       "      <td>169.014302</td>\n",
       "      <td>643.596095</td>\n",
       "    </tr>\n",
       "  </tbody>\n",
       "</table>\n",
       "</div>"
      ],
      "text/plain": [
       "   time  vicTotalMean  vicTotalStd  defTotalMean  defTotalStd  goldDiffMean  \\\n",
       "0     0   2500.000000     0.000000   2500.000000     0.000000      0.000000   \n",
       "1     1   2505.675164    52.414341   2503.775806    52.414341      1.899358   \n",
       "2     2   2695.155135   114.668696   2687.227571   114.668696      7.927564   \n",
       "3     3   4099.264716   277.434295   4030.259617   277.434295     69.005098   \n",
       "4     4   5608.309409   443.964461   5439.295107   443.964461    169.014302   \n",
       "\n",
       "   goldDiffStd  \n",
       "0     0.000000  \n",
       "1    62.793878  \n",
       "2   146.627377  \n",
       "3   386.587603  \n",
       "4   643.596095  "
      ]
     },
     "execution_count": 26,
     "metadata": {},
     "output_type": "execute_result"
    }
   ],
   "source": [
    "dft.head()"
   ]
  },
  {
   "cell_type": "code",
   "execution_count": 44,
   "metadata": {
    "collapsed": false
   },
   "outputs": [
    {
     "data": {
      "text/html": [
       "\n",
       "\n",
       "    <div class=\"bk-root\">\n",
       "        <div class=\"plotdiv\" id=\"2aeb61d0-cf7a-4eea-9035-a02b6bfe48fe\"></div>\n",
       "    </div>\n",
       "<script type=\"text/javascript\">\n",
       "  \n",
       "  (function(global) {\n",
       "    function now() {\n",
       "      return new Date();\n",
       "    }\n",
       "  \n",
       "    if (typeof (window._bokeh_onload_callbacks) === \"undefined\") {\n",
       "      window._bokeh_onload_callbacks = [];\n",
       "    }\n",
       "  \n",
       "    function run_callbacks() {\n",
       "      window._bokeh_onload_callbacks.forEach(function(callback) { callback() });\n",
       "      delete window._bokeh_onload_callbacks\n",
       "      console.info(\"Bokeh: all callbacks have finished\");\n",
       "    }\n",
       "  \n",
       "    function load_libs(js_urls, callback) {\n",
       "      window._bokeh_onload_callbacks.push(callback);\n",
       "      if (window._bokeh_is_loading > 0) {\n",
       "        console.log(\"Bokeh: BokehJS is being loaded, scheduling callback at\", now());\n",
       "        return null;\n",
       "      }\n",
       "      if (js_urls == null || js_urls.length === 0) {\n",
       "        run_callbacks();\n",
       "        return null;\n",
       "      }\n",
       "      console.log(\"Bokeh: BokehJS not loaded, scheduling load and callback at\", now());\n",
       "      window._bokeh_is_loading = js_urls.length;\n",
       "      for (var i = 0; i < js_urls.length; i++) {\n",
       "        var url = js_urls[i];\n",
       "        var s = document.createElement('script');\n",
       "        s.src = url;\n",
       "        s.async = false;\n",
       "        s.onreadystatechange = s.onload = function() {\n",
       "          window._bokeh_is_loading--;\n",
       "          if (window._bokeh_is_loading === 0) {\n",
       "            console.log(\"Bokeh: all BokehJS libraries loaded\");\n",
       "            run_callbacks()\n",
       "          }\n",
       "        };\n",
       "        s.onerror = function() {\n",
       "          console.warn(\"failed to load library \" + url);\n",
       "        };\n",
       "        console.log(\"Bokeh: injecting script tag for BokehJS library: \", url);\n",
       "        document.getElementsByTagName(\"head\")[0].appendChild(s);\n",
       "      }\n",
       "    };var element = document.getElementById(\"2aeb61d0-cf7a-4eea-9035-a02b6bfe48fe\");\n",
       "    if (element == null) {\n",
       "      console.log(\"Bokeh: ERROR: autoload.js configured with elementid '2aeb61d0-cf7a-4eea-9035-a02b6bfe48fe' but no matching script tag was found. \")\n",
       "      return false;\n",
       "    }\n",
       "  \n",
       "    var js_urls = [];\n",
       "  \n",
       "    var inline_js = [\n",
       "      function(Bokeh) {\n",
       "        Bokeh.$(function() {\n",
       "            var docs_json = {\"5763035a-64a2-4766-b6f1-7889cd4d116d\":{\"roots\":{\"references\":[{\"attributes\":{},\"id\":\"10bd868b-29d0-46ae-9a08-cef52617e01a\",\"type\":\"BasicTicker\"},{\"attributes\":{\"overlay\":{\"id\":\"fb67cbf0-55c9-4614-8ef4-73e57fe00355\",\"type\":\"BoxAnnotation\"},\"plot\":{\"id\":\"869d1252-0aa3-47e2-92ee-67b4eb340d8a\",\"subtype\":\"Figure\",\"type\":\"Plot\"}},\"id\":\"bf295077-4440-42f0-9504-fa75a439d9db\",\"type\":\"BoxZoomTool\"},{\"attributes\":{},\"id\":\"0ac79182-7367-4ab0-9574-3b5fa045dc26\",\"type\":\"BasicTickFormatter\"},{\"attributes\":{\"fill_alpha\":{\"value\":0.1},\"fill_color\":{\"value\":\"#1f77b4\"},\"line_alpha\":{\"value\":0.1},\"line_color\":{\"value\":\"#1f77b4\"},\"size\":{\"units\":\"screen\",\"value\":5},\"x\":{\"field\":\"x\"},\"y\":{\"field\":\"y\"}},\"id\":\"296c8472-9b93-4be3-aa3a-760db4dbdf37\",\"type\":\"Circle\"},{\"attributes\":{\"active_drag\":\"auto\",\"active_scroll\":\"auto\",\"active_tap\":\"auto\",\"tools\":[{\"id\":\"614f440b-734c-4b7a-85b0-665c81e8c328\",\"type\":\"PanTool\"},{\"id\":\"5bcec13b-32b5-4e74-aca0-4a1b9a46f05f\",\"type\":\"WheelZoomTool\"},{\"id\":\"bf295077-4440-42f0-9504-fa75a439d9db\",\"type\":\"BoxZoomTool\"},{\"id\":\"dc2d0b31-c5d7-48ab-ac01-5c987d44df9f\",\"type\":\"ResetTool\"},{\"id\":\"4fea188f-d29b-40a4-a311-1d487c03c964\",\"type\":\"ResizeTool\"}]},\"id\":\"eaf59d68-cf2b-4dda-bd10-522d22f66795\",\"type\":\"Toolbar\"},{\"attributes\":{\"plot\":{\"id\":\"869d1252-0aa3-47e2-92ee-67b4eb340d8a\",\"subtype\":\"Figure\",\"type\":\"Plot\"}},\"id\":\"614f440b-734c-4b7a-85b0-665c81e8c328\",\"type\":\"PanTool\"},{\"attributes\":{\"line_color\":{\"value\":\"mediumpurple\"},\"line_width\":{\"value\":2},\"x\":{\"field\":\"x\"},\"y\":{\"field\":\"y\"}},\"id\":\"5c4cd69d-8768-4c64-b4b3-98a1f07a322e\",\"type\":\"Line\"},{\"attributes\":{\"plot\":{\"id\":\"869d1252-0aa3-47e2-92ee-67b4eb340d8a\",\"subtype\":\"Figure\",\"type\":\"Plot\"}},\"id\":\"dc2d0b31-c5d7-48ab-ac01-5c987d44df9f\",\"type\":\"ResetTool\"},{\"attributes\":{\"dimension\":1,\"plot\":{\"id\":\"869d1252-0aa3-47e2-92ee-67b4eb340d8a\",\"subtype\":\"Figure\",\"type\":\"Plot\"},\"ticker\":{\"id\":\"339c2734-ce7a-44c4-814f-779d7bfcba9a\",\"type\":\"BasicTicker\"}},\"id\":\"b1cede2f-d443-483c-996a-1fffe2afe769\",\"type\":\"Grid\"},{\"attributes\":{\"axis_label\":\"Y\",\"formatter\":{\"id\":\"4145c9d9-5845-4262-ba97-7b346dc75d61\",\"type\":\"BasicTickFormatter\"},\"plot\":{\"id\":\"869d1252-0aa3-47e2-92ee-67b4eb340d8a\",\"subtype\":\"Figure\",\"type\":\"Plot\"},\"ticker\":{\"id\":\"339c2734-ce7a-44c4-814f-779d7bfcba9a\",\"type\":\"BasicTicker\"}},\"id\":\"b1c5fabe-5c9d-4ca2-b507-274892cc3876\",\"type\":\"LinearAxis\"},{\"attributes\":{\"callback\":null},\"id\":\"bdac6000-2814-4e9d-b13a-4a8452fffd6b\",\"type\":\"DataRange1d\"},{\"attributes\":{\"line_alpha\":{\"value\":0.1},\"line_color\":{\"value\":\"#1f77b4\"},\"line_width\":{\"value\":2},\"x\":{\"field\":\"x\"},\"y\":{\"field\":\"y\"}},\"id\":\"c55e80d0-1c7a-45d6-8dc5-934e7a6443ef\",\"type\":\"Line\"},{\"attributes\":{},\"id\":\"02dc7a9a-aa51-4b35-b425-386e60e5093d\",\"type\":\"ToolEvents\"},{\"attributes\":{\"plot\":{\"id\":\"869d1252-0aa3-47e2-92ee-67b4eb340d8a\",\"subtype\":\"Figure\",\"type\":\"Plot\"}},\"id\":\"4fea188f-d29b-40a4-a311-1d487c03c964\",\"type\":\"ResizeTool\"},{\"attributes\":{\"plot\":null,\"text\":\"Time Series\"},\"id\":\"b7429346-c272-425a-b936-8fc7f026474c\",\"type\":\"Title\"},{\"attributes\":{\"plot\":{\"id\":\"869d1252-0aa3-47e2-92ee-67b4eb340d8a\",\"subtype\":\"Figure\",\"type\":\"Plot\"}},\"id\":\"5bcec13b-32b5-4e74-aca0-4a1b9a46f05f\",\"type\":\"WheelZoomTool\"},{\"attributes\":{\"data_source\":{\"id\":\"0f3c2d13-17a5-4ed7-bfe0-29a7415add4a\",\"type\":\"ColumnDataSource\"},\"glyph\":{\"id\":\"de6832f4-a785-4a69-83c8-a89c4e40e233\",\"type\":\"Circle\"},\"hover_glyph\":null,\"nonselection_glyph\":{\"id\":\"296c8472-9b93-4be3-aa3a-760db4dbdf37\",\"type\":\"Circle\"},\"selection_glyph\":null},\"id\":\"3769b39c-7fa7-4fe2-852a-935be532ed25\",\"type\":\"GlyphRenderer\"},{\"attributes\":{},\"id\":\"339c2734-ce7a-44c4-814f-779d7bfcba9a\",\"type\":\"BasicTicker\"},{\"attributes\":{\"bottom_units\":\"screen\",\"fill_alpha\":{\"value\":0.5},\"fill_color\":{\"value\":\"lightgrey\"},\"left_units\":\"screen\",\"level\":\"overlay\",\"line_alpha\":{\"value\":1.0},\"line_color\":{\"value\":\"black\"},\"line_dash\":[4,4],\"line_width\":{\"value\":2},\"plot\":null,\"render_mode\":\"css\",\"right_units\":\"screen\",\"top_units\":\"screen\"},\"id\":\"fb67cbf0-55c9-4614-8ef4-73e57fe00355\",\"type\":\"BoxAnnotation\"},{\"attributes\":{\"callback\":null},\"id\":\"440a76ac-6c2b-436c-bd3f-b2300113fdae\",\"type\":\"DataRange1d\"},{\"attributes\":{\"plot\":{\"id\":\"869d1252-0aa3-47e2-92ee-67b4eb340d8a\",\"subtype\":\"Figure\",\"type\":\"Plot\"},\"ticker\":{\"id\":\"10bd868b-29d0-46ae-9a08-cef52617e01a\",\"type\":\"BasicTicker\"}},\"id\":\"56c74d79-789b-45b7-a03b-d387e18ef1f6\",\"type\":\"Grid\"},{\"attributes\":{\"fill_color\":{\"value\":\"indigo\"},\"line_color\":{\"value\":\"indigo\"},\"size\":{\"units\":\"screen\",\"value\":5},\"x\":{\"field\":\"x\"},\"y\":{\"field\":\"y\"}},\"id\":\"de6832f4-a785-4a69-83c8-a89c4e40e233\",\"type\":\"Circle\"},{\"attributes\":{\"data_source\":{\"id\":\"a172cba1-f81e-40db-b26c-62f19b6eb311\",\"type\":\"ColumnDataSource\"},\"glyph\":{\"id\":\"5c4cd69d-8768-4c64-b4b3-98a1f07a322e\",\"type\":\"Line\"},\"hover_glyph\":null,\"nonselection_glyph\":{\"id\":\"c55e80d0-1c7a-45d6-8dc5-934e7a6443ef\",\"type\":\"Line\"},\"selection_glyph\":null},\"id\":\"1dec612d-4e2c-47f8-a0ca-095d65c7ced0\",\"type\":\"GlyphRenderer\"},{\"attributes\":{\"callback\":null,\"column_names\":[\"y\",\"x\"],\"data\":{\"x\":[0,1,2,3,4,5,6,7,8,9,10,11,12,13,14,15,16,17,18,19,20,21,22,23,24,25,26,27,28,29,30,31,32,33,34,35,36,37,38,39,40,41,42,43,44,45,46,47,48,49,50,51,52,53,54,55,56,57,58,59,60,61,62,63,64,65,66,67,68,69,70,71,72,73,74,75,76],\"y\":[0.0,1.89935774349467,7.927564060120506,69.00509832483613,169.0143017943455,257.87764020393297,344.0766072965636,448.5645236045819,573.980798516851,718.6523207309806,883.929682844468,1069.8565752880413,1290.1126415469175,1560.995231472283,1832.3787256590276,2136.0083460290125,2456.54895336513,2813.922449791211,3164.295986733002,3523.0407038512617,3876.2220151736988,4174.552654482159,4265.460329654979,4541.618440726237,4827.37193134912,5053.283426028921,5238.277476099426,5421.762866191607,5578.53616740814,5654.3835580687255,5648.361250231868,5605.635209437169,5512.725443010282,5422.340802312974,5294.352502662407,5182.220276087279,4937.969491525424,4800.252414059482,4629.172122021821,4440.822630761264,4198.85609978704,4057.2134951802927,3929.175996607294,3657.961909598781,3396.020232985898,3201.7158671586717,3114.8106666666667,3064.6344902386118,2731.5528455284552,2438.7858347386173,2185.282828282828,2284.246192893401,2315.549689440994,1748.728,1742.3681592039802,1703.5822784810127,1927.6222222222223,2001.4727272727273,1923.3214285714287,2247.6666666666665,2964.1272727272726,3094.7619047619046,2489.6470588235293,1593.25,1171.1,1608.578947368421,578.7692307692307,1306.1818181818182,1139.7777777777778,-2121.2,-3020.0,-8731.0,-9358.0,-7557.0,-8234.0,-6831.0,-6351.0]}},\"id\":\"0f3c2d13-17a5-4ed7-bfe0-29a7415add4a\",\"type\":\"ColumnDataSource\"},{\"attributes\":{\"axis_label\":\"Time (minutes)\",\"formatter\":{\"id\":\"0ac79182-7367-4ab0-9574-3b5fa045dc26\",\"type\":\"BasicTickFormatter\"},\"plot\":{\"id\":\"869d1252-0aa3-47e2-92ee-67b4eb340d8a\",\"subtype\":\"Figure\",\"type\":\"Plot\"},\"ticker\":{\"id\":\"10bd868b-29d0-46ae-9a08-cef52617e01a\",\"type\":\"BasicTicker\"}},\"id\":\"d02c5731-7ed1-4698-80af-65540949fd64\",\"type\":\"LinearAxis\"},{\"attributes\":{\"callback\":null,\"column_names\":[\"y\",\"x\"],\"data\":{\"x\":[0,1,2,3,4,5,6,7,8,9,10,11,12,13,14,15,16,17,18,19,20,21,22,23,24,25,26,27,28,29,30,31,32,33,34,35,36,37,38,39,40,41,42,43,44,45,46,47,48,49,50,51,52,53,54,55,56,57,58,59,60,61,62,63,64,65,66,67,68,69,70,71,72,73,74,75,76],\"y\":[0.0,1.89935774349467,7.927564060120506,69.00509832483613,169.0143017943455,257.87764020393297,344.0766072965636,448.5645236045819,573.980798516851,718.6523207309806,883.929682844468,1069.8565752880413,1290.1126415469175,1560.995231472283,1832.3787256590276,2136.0083460290125,2456.54895336513,2813.922449791211,3164.295986733002,3523.0407038512617,3876.2220151736988,4174.552654482159,4265.460329654979,4541.618440726237,4827.37193134912,5053.283426028921,5238.277476099426,5421.762866191607,5578.53616740814,5654.3835580687255,5648.361250231868,5605.635209437169,5512.725443010282,5422.340802312974,5294.352502662407,5182.220276087279,4937.969491525424,4800.252414059482,4629.172122021821,4440.822630761264,4198.85609978704,4057.2134951802927,3929.175996607294,3657.961909598781,3396.020232985898,3201.7158671586717,3114.8106666666667,3064.6344902386118,2731.5528455284552,2438.7858347386173,2185.282828282828,2284.246192893401,2315.549689440994,1748.728,1742.3681592039802,1703.5822784810127,1927.6222222222223,2001.4727272727273,1923.3214285714287,2247.6666666666665,2964.1272727272726,3094.7619047619046,2489.6470588235293,1593.25,1171.1,1608.578947368421,578.7692307692307,1306.1818181818182,1139.7777777777778,-2121.2,-3020.0,-8731.0,-9358.0,-7557.0,-8234.0,-6831.0,-6351.0]}},\"id\":\"a172cba1-f81e-40db-b26c-62f19b6eb311\",\"type\":\"ColumnDataSource\"},{\"attributes\":{},\"id\":\"4145c9d9-5845-4262-ba97-7b346dc75d61\",\"type\":\"BasicTickFormatter\"},{\"attributes\":{\"below\":[{\"id\":\"d02c5731-7ed1-4698-80af-65540949fd64\",\"type\":\"LinearAxis\"}],\"left\":[{\"id\":\"b1c5fabe-5c9d-4ca2-b507-274892cc3876\",\"type\":\"LinearAxis\"}],\"plot_width\":900,\"renderers\":[{\"id\":\"d02c5731-7ed1-4698-80af-65540949fd64\",\"type\":\"LinearAxis\"},{\"id\":\"56c74d79-789b-45b7-a03b-d387e18ef1f6\",\"type\":\"Grid\"},{\"id\":\"b1c5fabe-5c9d-4ca2-b507-274892cc3876\",\"type\":\"LinearAxis\"},{\"id\":\"b1cede2f-d443-483c-996a-1fffe2afe769\",\"type\":\"Grid\"},{\"id\":\"fb67cbf0-55c9-4614-8ef4-73e57fe00355\",\"type\":\"BoxAnnotation\"},{\"id\":\"1dec612d-4e2c-47f8-a0ca-095d65c7ced0\",\"type\":\"GlyphRenderer\"},{\"id\":\"3769b39c-7fa7-4fe2-852a-935be532ed25\",\"type\":\"GlyphRenderer\"}],\"title\":{\"id\":\"b7429346-c272-425a-b936-8fc7f026474c\",\"type\":\"Title\"},\"tool_events\":{\"id\":\"02dc7a9a-aa51-4b35-b425-386e60e5093d\",\"type\":\"ToolEvents\"},\"toolbar\":{\"id\":\"eaf59d68-cf2b-4dda-bd10-522d22f66795\",\"type\":\"Toolbar\"},\"x_range\":{\"id\":\"440a76ac-6c2b-436c-bd3f-b2300113fdae\",\"type\":\"DataRange1d\"},\"y_range\":{\"id\":\"bdac6000-2814-4e9d-b13a-4a8452fffd6b\",\"type\":\"DataRange1d\"}},\"id\":\"869d1252-0aa3-47e2-92ee-67b4eb340d8a\",\"subtype\":\"Figure\",\"type\":\"Plot\"}],\"root_ids\":[\"869d1252-0aa3-47e2-92ee-67b4eb340d8a\"]},\"title\":\"Bokeh Application\",\"version\":\"0.12.0\"}};\n",
       "            var render_items = [{\"docid\":\"5763035a-64a2-4766-b6f1-7889cd4d116d\",\"elementid\":\"2aeb61d0-cf7a-4eea-9035-a02b6bfe48fe\",\"modelid\":\"869d1252-0aa3-47e2-92ee-67b4eb340d8a\",\"notebook_comms_target\":\"8ada2eda-e76a-4646-a44d-364bb04f3dc0\"}];\n",
       "            \n",
       "            Bokeh.embed.embed_items(docs_json, render_items);\n",
       "        });\n",
       "      },\n",
       "      function(Bokeh) {\n",
       "      }\n",
       "    ];\n",
       "  \n",
       "    function run_inline_js() {\n",
       "      for (var i = 0; i < inline_js.length; i++) {\n",
       "        inline_js[i](window.Bokeh);\n",
       "      }\n",
       "    }\n",
       "  \n",
       "    if (window._bokeh_is_loading === 0) {\n",
       "      console.log(\"Bokeh: BokehJS loaded, going straight to plotting\");\n",
       "      run_inline_js();\n",
       "    } else {\n",
       "      load_libs(js_urls, function() {\n",
       "        console.log(\"Bokeh: BokehJS plotting callback run at\", now());\n",
       "        run_inline_js();\n",
       "      });\n",
       "    }\n",
       "  }(this));\n",
       "</script>"
      ]
     },
     "metadata": {},
     "output_type": "display_data"
    },
    {
     "data": {
      "text/html": [
       "<p><code>&lt;Bokeh Notebook handle for <strong>In[44]</strong>&gt;</code></p>"
      ],
      "text/plain": [
       "<bokeh.io._CommsHandle at 0x11645df50>"
      ]
     },
     "execution_count": 44,
     "metadata": {},
     "output_type": "execute_result"
    }
   ],
   "source": [
    "TOOLS = \"pan,wheel_zoom,box_zoom,reset,resize\"\n",
    "p = figure(title=\"Time Series\", plot_width=900,plot_height=600,tools=TOOLS,x_axis_label=\"Time (minutes)\", y_axis_label = \"Y\")\n",
    "data_mean = dft['goldDiffMean']\n",
    "time = dft['time']\n",
    "p.line(time,data_mean,line_width=2,color='mediumpurple')\n",
    "p.circle(time,data_mean,color='indigo',size=5)\n",
    "show(p)"
   ]
  },
  {
   "cell_type": "code",
   "execution_count": null,
   "metadata": {
    "collapsed": true
   },
   "outputs": [],
   "source": []
  }
 ],
 "metadata": {
  "kernelspec": {
   "display_name": "Python [Root]",
   "language": "python",
   "name": "Python [Root]"
  },
  "language_info": {
   "codemirror_mode": {
    "name": "ipython",
    "version": 2
   },
   "file_extension": ".py",
   "mimetype": "text/x-python",
   "name": "python",
   "nbconvert_exporter": "python",
   "pygments_lexer": "ipython2",
   "version": "2.7.12"
  }
 },
 "nbformat": 4,
 "nbformat_minor": 0
}
